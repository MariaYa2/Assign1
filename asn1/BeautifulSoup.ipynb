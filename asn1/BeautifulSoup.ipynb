{
 "cells": [
  {
   "cell_type": "code",
   "execution_count": 55,
   "metadata": {},
   "outputs": [],
   "source": [
    "from bs4 import BeautifulSoup \n",
    "import urllib.request\n",
    "import csv\n",
    "import time"
   ]
  },
  {
   "cell_type": "code",
   "execution_count": 57,
   "metadata": {},
   "outputs": [],
   "source": [
    "with open('yelpdata2.csv','a') as file:\n",
    "    file.write('Rank,Store,Rating,No. of Reviews,Telephone,Address,District\\n')"
   ]
  },
  {
   "cell_type": "code",
   "execution_count": 58,
   "metadata": {
    "scrolled": true
   },
   "outputs": [],
   "source": [
    "def bsoup(url):    \n",
    "    ourUrl = urllib.request.urlopen(url)\n",
    "    soup = BeautifulSoup(ourUrl,'html.parser')\n",
    "    return soup"
   ]
  },
  {
   "cell_type": "code",
   "execution_count": 64,
   "metadata": {},
   "outputs": [
    {
     "name": "stdout",
     "output_type": "stream",
     "text": [
      "11  A La Mode Shoppe 4.5 star rating 86 reviews (917) 639-3401 Midtown East 360 E 55th St\n",
      "12  Amorino Gelato 4.5 star rating 188 reviews (212) 877-5700 Upper West Side 414 Amsterdam Ave\n",
      "13  Holey Cream 3 star rating 987 reviews (212) 247-8400 None Hell's Kitchen\n",
      "14  16 Handles x Mochidoki 4 star rating 26 reviews (212) 664-9608 None Hell's Kitchen\n",
      "15  Amorino Gelato 4.5 star rating 702 reviews (212) 445-0101 Midtown West 721 8th Ave\n",
      "16  Häagen-Dazs 2.5 star rating 43 reviews (212) 787-7165 Upper West Side 263 Amsterdam Ave\n",
      "17  16 Handles - UWS Amsterdam 4 star rating 188 reviews (646) 861-1281 Upper West Side 325 Amsterdam Ave\n",
      "18  Jacques Torres Chocolate 4 star rating 273 reviews (212) 787-3256 Upper West Side 285 Amsterdam Ave\n",
      "19  Levain Bakery 4.5 star rating 7840 reviews (917) 464-3769 Upper West Side 167 W 74th St\n",
      "20  Twister Cake Bakery 5 star rating 4 reviews (347) 946-2141 Upper West Side None\n",
      "21  Schmackary’s 4 star rating 1937 reviews (646) 801-9866 Midtown West 362 W 45th St\n",
      "22  Wafels & Dinges 4.5 star rating 190 reviews None Upper West Side Broadway & 66th St\n",
      "23  Twister Cake Bakery 5 star rating 4 reviews (347) 946-2141 Upper West Side None\n",
      "24  Gelotti 4.5 star rating 12 reviews None Upper West Side 2486 Broadway\n",
      "25  Bibble & Sip 4.5 star rating 4654 reviews (646) 649-5116 Theater District 253 W 51st St\n",
      "26  Ben & Jerry’s 4 star rating 72 reviews (212) 218-7843 Midtown West 30 Rockefeller Ctr\n",
      "27  Récolte Dessert Bar 4.5 star rating 34 reviews (646) 928-0116 Upper West Side 300 Amsterdam Ave\n",
      "28  Heavenly Delights 4 star rating 5 reviews (212) 759-9324 Upper East Side 767 Lexington Ave\n",
      "29  Neuhaus Belgian Chocolate 4.5 star rating 72 reviews (212) 644-4490 Midtown East 500 Madison Ave\n",
      "30  Pinkberry 3.5 star rating 110 reviews (212) 580-3410 Upper West Side 2041 Broadway\n",
      "31  The Leopard at des Artistes 4 star rating 210 reviews (212) 787-8767 Upper West Side 1 W 67th St\n",
      "32  Dylan’s Candy Bar 3 star rating 25 reviews (646) 735-0078 None Hell's Kitchen\n",
      "33  Pier i Cafe 4 star rating 398 reviews (212) 362-4450 None 500 W 70th St\n",
      "34  Bouchon Bakery & Cafe 4 star rating 1361 reviews (212) 823-9366 None Hell's Kitchen\n",
      "35  Leyla 4.5 star rating 56 reviews (347) 334-7939 Upper West Side 108 W 74th St\n",
      "36  The Ribbon 3.5 star rating 377 reviews (347) 504-7541 Upper West Side 20 W 72nd St\n",
      "37  Storico 4 star rating 199 reviews (212) 485-9211 Upper West Side 170 Ctr Park W\n",
      "38  Burke & Wills 4 star rating 405 reviews (646) 823-9251 Upper West Side 226 W 79th St\n",
      "39  Bluestone Lane 4 star rating 112 reviews (718) 374-6858 Upper West Side 417 Amsterdam Ave\n",
      "40  Bistro Verde 4.5 star rating 12 reviews (212) 295-2187 Midtown West 225 W 57th St\n",
      "41  Pinkberry 3.5 star rating 152 reviews (212) 397-0412 None Hell's Kitchen\n",
      "42  Magnolia Bakery Upper West Side 3.5 star rating 1098 reviews (212) 724-8101 Upper West Side 200 Columbus Ave\n",
      "43  Insomnia Cookies 3.5 star rating 318 reviews (929) 239-4768 Upper West Side 405 Amsterdam Ave\n",
      "44  Ben & Jerry’s 3.5 star rating 58 reviews (212) 933-4632 Theater District 200 W 44th St\n",
      "45  La Maison Du Chocolat 4 star rating 193 reviews (212) 744-7117 Upper East Side 1018 Madison Ave\n",
      "46  Tea Magic 4 star rating 17 reviews (212) 712-2227 Upper West Side 239 W 72nd St\n",
      "47  Wafels & Dinges 4.5 star rating 172 reviews None Grand Army Plz None\n",
      "48  Sugar Factory 3 star rating 492 reviews (212) 414-8700 Upper West Side 1991 Broadway\n",
      "49  Cold Stone Creamery 3 star rating 201 reviews (212) 398-1938 Midtown West 241 W 42nd St\n",
      "51  Raku - It’s Japanese II 4 star rating 301 reviews (212) 873-1220 Upper West Side 57 W 76th St\n",
      "52  SubCulture Dining 4.5 star rating 29 reviews None Upper West Side 119 W 72nd St\n",
      "53  Olympic Flame Diner 3.5 star rating 196 reviews (212) 581-5259 Upper West Side 200 W 60th St\n",
      "54  Bareburger 4 star rating 375 reviews (212) 685-2273 None Hell's Kitchen\n",
      "55  Masseria Dei Vini 4 star rating 431 reviews (212) 315-2888 None Hell's Kitchen\n",
      "56  Angaar 4.5 star rating 76 reviews (212) 393-4040 Upper West Side 283 Columbus Ave\n",
      "57  Nougatine at Jean-Georges 4 star rating 1109 reviews (212) 299-3900 Upper West Side 1 Central Park W\n",
      "58  Robert 4 star rating 904 reviews (212) 299-7730 None Hell's Kitchen\n",
      "59  Bluebird London NYC 4 star rating 239 reviews (347) 682-2100 None Hell's Kitchen\n",
      "60  Yappy Treats Cart 1 star rating 1 review (347) 688-7478 Upper West Side 235 W 75th St\n",
      "61  Épicerie Boulud 3.5 star rating 332 reviews (212) 595-9606 Upper West Side 1900 Broadway\n",
      "62  Alice’s Tea Cup 4 star rating 1111 reviews (212) 799-3006 Upper West Side 102 W 73rd St\n",
      "63  The Jolly Goat Coffee Bar 4.5 star rating 335 reviews (646) 509-8957 None Hell's Kitchen\n",
      "64  United City Ice Cube 4.5 star rating 14 reviews (646) 762-0995 None Hell's Kitchen\n",
      "65  Jacques Torres Chocolate 4 star rating 27 reviews (646) 852-6624 Midtown East 110 E 57th St\n",
      "66  Pinkberry 3.5 star rating 149 reviews (212) 223-1918 Midtown East 1039 2nd Ave\n",
      "67  Buttercup Bake Shop 4 star rating 199 reviews (212) 757-6900 Theater District 828 7th Ave\n",
      "68  Shake Shack 4 star rating 2348 reviews (646) 747-8770 Upper West Side 366 Columbus Ave\n",
      "69  Vive La Crepe 3.5 star rating 203 reviews (855) 273-7369 Upper West Side 189 Columbus Ave\n",
      "70  The Ribbon 4 star rating 133 reviews (212) 944-2474 Theater District 220 West 44th St\n",
      "71  Kochi 5 star rating 9 reviews (646) 478-7308 None Hell's Kitchen\n",
      "72  United City Ice Cube 4.5 star rating 14 reviews (646) 762-0995 None Hell's Kitchen\n",
      "73  Dylan’s Candy Bar 3 star rating 25 reviews (646) 735-0078 None Hell's Kitchen\n",
      "74  The Leopard at des Artistes 4 star rating 210 reviews (212) 787-8767 Upper West Side 1 W 67th St\n",
      "75  Bluestone Lane 4 star rating 490 reviews (718) 374-6858 Upper East Side 1085 5th Ave\n",
      "76  Poseidon Bakery 4.5 star rating 182 reviews (212) 757-6173 Midtown West 629 9th Ave\n",
      "77  Eclair Bakery 4.5 star rating 541 reviews (212) 371-3459 Midtown East 305 E 53rd St\n",
      "78  Bouchon Bakery & Cafe 4 star rating 1361 reviews (212) 823-9366 None Hell's Kitchen\n",
      "79  Pier i Cafe 4 star rating 398 reviews (212) 362-4450 None 500 W 70th St\n",
      "80  Sant Ambroeus Coffee Bar at Loews Regency Hotel 4 star rating 64 reviews (212) 339-4051 Upper East Side None\n",
      "91  Sant Ambroeus 4 star rating 373 reviews (212) 570-2211 Upper East Side 1000 Madison Ave\n",
      "92  Bistro Verde 4.5 star rating 12 reviews (212) 295-2187 Midtown West 225 W 57th St\n",
      "93  The Ribbon 4 star rating 133 reviews (212) 944-2474 Theater District 220 West 44th St\n",
      "94  Cafe Sabarsky 4 star rating 488 reviews (212) 288-0665 Upper East Side 1048 5th Ave\n",
      "95  Pinkberry 3.5 star rating 181 reviews (212) 957-8440 Midtown West 596 9th Ave.\n",
      "96  The Ribbon 3.5 star rating 377 reviews (347) 504-7541 Upper West Side 20 W 72nd St\n",
      "97  Tasti D-Lite 2.5 star rating 22 reviews (212) 717-1221 Upper East Side 1312 First Ave\n",
      "98  Jacques Torres Chocolate 4 star rating 150 reviews (212) 664-1804 Midtown West 30 Rockefeller Plz\n",
      "99  Katagiri Japanese Grocery Store 4 star rating 155 reviews (212) 755-3566 Midtown East 224 E 59th St\n",
      "100  Sprinkles New York - Upper East Side 4 star rating 972 reviews (212) 207-8375 Upper East Side 780 Lexington Ave\n"
     ]
    }
   ],
   "source": [
    "infoList = []\n",
    "for i in range(0,91,10):    \n",
    "    url = \"https://www.yelp.com/search?find_desc=Ice%20Cream&find_loc=10023&start=\"+str(i)\n",
    "    soup = bsoup(url)\n",
    "    for all_info in soup.find_all('div',{'class':'lemon--div__373c0__1mboc searchResult__373c0__1yggB border-color--default__373c0__2oFDT'}):\n",
    "        phoneNo = 'None'\n",
    "        district = 'None'\n",
    "        address = 'None'\n",
    "        rank_name = all_info.find('p',{'class':'lemon--p__373c0__3Qnnj text__373c0__2pB8f text-color--black-regular__373c0__38bRH text-align--left__373c0__2pnx_ text-size--inherit__373c0__2gFQ3'})\n",
    "        rn = rank_name.get_text()\n",
    "        if rn[0].isdigit() and ('.' in rn):\n",
    "            rn2 = rn.split('.')\n",
    "            ranking = rn2[0]\n",
    "            store_name = rn2[1]\n",
    "            rating = all_info.find('div',{'class':'lemon--div__373c0__1mboc attribute__373c0__1hPI_ display--inline-block__373c0__2de_K u-space-r1 border-color--default__373c0__2oFDT'}).find('span',{'class':'lemon--span__373c0__3997G display--inline__373c0__1DbOG border-color--default__373c0__2oFDT'}).find('div')['aria-label']\n",
    "            review_number = all_info.find('span',{'class':'lemon--span__373c0__3997G text__373c0__2pB8f reviewCount__373c0__2r4xT text-color--mid__373c0__3G312 text-align--left__373c0__2pnx_'}).get_text()\n",
    "            three_ele = all_info.find('div',{'class':'lemon--div__373c0__1mboc container__373c0__19wDx u-padding-l2 border-color--default__373c0__2oFDT text-align--right__373c0__3fmmn'}).get_text(\"\\n\", strip=True)\n",
    "            three = three_ele.split('\\n')\n",
    "            for element in three:\n",
    "                if '(' in element:\n",
    "                    phoneNo = element\n",
    "                elif all(x.isalpha() or x.isspace() for x in element):\n",
    "                    district = element\n",
    "                else:\n",
    "                    address = element\n",
    "            infoList.append([ranking,store_name,rating,review_number,phoneNo,address,district])\n",
    "            print(ranking,store_name,rating,review_number,phoneNo,district,address)       "
   ]
  },
  {
   "cell_type": "code",
   "execution_count": 65,
   "metadata": {},
   "outputs": [],
   "source": [
    "with open ('yelpdata2.csv','a') as file:\n",
    "    for item in infoList:\n",
    "        file.write('{},{},{},{},{},{},{}'.format(item[0],item[1],item[2],item[3],item[4],item[5],item[6]))\n",
    "        file.write('\\n')"
   ]
  },
  {
   "cell_type": "markdown",
   "metadata": {},
   "source": [
    "Diagram\n",
    "======"
   ]
  },
  {
   "cell_type": "code",
   "execution_count": 2,
   "metadata": {},
   "outputs": [],
   "source": [
    "import pandas as pd"
   ]
  },
  {
   "cell_type": "code",
   "execution_count": 3,
   "metadata": {},
   "outputs": [],
   "source": [
    "df = pd.read_csv('yelpdata.csv',header = 0,encoding = 'unicode_escape' )"
   ]
  },
  {
   "cell_type": "code",
   "execution_count": 134,
   "metadata": {},
   "outputs": [
    {
     "data": {
      "text/html": [
       "<div>\n",
       "<style scoped>\n",
       "    .dataframe tbody tr th:only-of-type {\n",
       "        vertical-align: middle;\n",
       "    }\n",
       "\n",
       "    .dataframe tbody tr th {\n",
       "        vertical-align: top;\n",
       "    }\n",
       "\n",
       "    .dataframe thead th {\n",
       "        text-align: right;\n",
       "    }\n",
       "</style>\n",
       "<table border=\"1\" class=\"dataframe\">\n",
       "  <thead>\n",
       "    <tr style=\"text-align: right;\">\n",
       "      <th></th>\n",
       "      <th>Rank</th>\n",
       "      <th>Store</th>\n",
       "      <th>Rating</th>\n",
       "      <th>No. of Reviews</th>\n",
       "      <th>Telephone</th>\n",
       "      <th>Address</th>\n",
       "      <th>District</th>\n",
       "    </tr>\n",
       "  </thead>\n",
       "  <tbody>\n",
       "    <tr>\n",
       "      <th>0</th>\n",
       "      <td>1</td>\n",
       "      <td>Van Leeuwen Artisan Ice Cream</td>\n",
       "      <td>4.5 star rating</td>\n",
       "      <td>12 reviews</td>\n",
       "      <td>(917) 388-2904</td>\n",
       "      <td>1250 6th Ave</td>\n",
       "      <td>Theater District</td>\n",
       "    </tr>\n",
       "    <tr>\n",
       "      <th>1</th>\n",
       "      <td>2</td>\n",
       "      <td>Emack and Bolios</td>\n",
       "      <td>4 star rating</td>\n",
       "      <td>286 reviews</td>\n",
       "      <td>(212) 362-2747</td>\n",
       "      <td>389 Amsterdam Ave</td>\n",
       "      <td>Upper West Side</td>\n",
       "    </tr>\n",
       "    <tr>\n",
       "      <th>2</th>\n",
       "      <td>3</td>\n",
       "      <td>Van Leeuwen Ice Cream</td>\n",
       "      <td>4.5 star rating</td>\n",
       "      <td>23 reviews</td>\n",
       "      <td>(646) 368-9195</td>\n",
       "      <td>253 Columbus Ave</td>\n",
       "      <td>Upper West Side</td>\n",
       "    </tr>\n",
       "    <tr>\n",
       "      <th>3</th>\n",
       "      <td>4</td>\n",
       "      <td>Grom</td>\n",
       "      <td>4 star rating</td>\n",
       "      <td>594 reviews</td>\n",
       "      <td>(212) 974-3444</td>\n",
       "      <td>1796 Broadway</td>\n",
       "      <td>Midtown West</td>\n",
       "    </tr>\n",
       "    <tr>\n",
       "      <th>4</th>\n",
       "      <td>5</td>\n",
       "      <td>CoolMess</td>\n",
       "      <td>4 star rating</td>\n",
       "      <td>154 reviews</td>\n",
       "      <td>(212) 355-9834</td>\n",
       "      <td>137 E 62nd St</td>\n",
       "      <td>Upper East Side</td>\n",
       "    </tr>\n",
       "  </tbody>\n",
       "</table>\n",
       "</div>"
      ],
      "text/plain": [
       "   Rank                           Store           Rating No. of Reviews  \\\n",
       "0     1   Van Leeuwen Artisan Ice Cream  4.5 star rating     12 reviews   \n",
       "1     2               Emack and Bolios    4 star rating    286 reviews   \n",
       "2     3           Van Leeuwen Ice Cream  4.5 star rating     23 reviews   \n",
       "3     4                            Grom    4 star rating    594 reviews   \n",
       "4     5                        CoolMess    4 star rating    154 reviews   \n",
       "\n",
       "        Telephone            Address          District  \n",
       "0  (917) 388-2904       1250 6th Ave  Theater District  \n",
       "1  (212) 362-2747  389 Amsterdam Ave   Upper West Side  \n",
       "2  (646) 368-9195   253 Columbus Ave   Upper West Side  \n",
       "3  (212) 974-3444      1796 Broadway      Midtown West  \n",
       "4  (212) 355-9834      137 E 62nd St   Upper East Side  "
      ]
     },
     "execution_count": 134,
     "metadata": {},
     "output_type": "execute_result"
    }
   ],
   "source": [
    "df.head()"
   ]
  },
  {
   "cell_type": "code",
   "execution_count": 4,
   "metadata": {},
   "outputs": [
    {
     "data": {
      "text/plain": [
       "pandas.core.frame.DataFrame"
      ]
     },
     "execution_count": 4,
     "metadata": {},
     "output_type": "execute_result"
    }
   ],
   "source": [
    "type(df)"
   ]
  },
  {
   "cell_type": "code",
   "execution_count": 113,
   "metadata": {},
   "outputs": [],
   "source": [
    "from matplotlib import pyplot as plt"
   ]
  },
  {
   "cell_type": "code",
   "execution_count": 164,
   "metadata": {},
   "outputs": [
    {
     "data": {
      "image/png": "[encoded data removed]",
      "text/plain": [
       "<Figure size 432x288 with 1 Axes>"
      ]
     },
     "metadata": {
      "needs_background": "light"
     },
     "output_type": "display_data"
    }
   ],
   "source": [
    "# The following shows the distribution of the stores\n",
    "locations = df.groupby('District')\n",
    "locations.size()\n",
    "ax=locations.size().plot(kind='bar',title='District Distribution')\n",
    "plt.ylabel('Total Number')\n"
   ]
  },
  {
   "cell_type": "code",
   "execution_count": 136,
   "metadata": {},
   "outputs": [
    {
     "name": "stderr",
     "output_type": "stream",
     "text": [
      "C:\\Users\\yangm\\Anaconda3\\lib\\site-packages\\ipykernel_launcher.py:3: SettingWithCopyWarning: \n",
      "A value is trying to be set on a copy of a slice from a DataFrame\n",
      "\n",
      "See the caveats in the documentation: http://pandas.pydata.org/pandas-docs/stable/indexing.html#indexing-view-versus-copy\n",
      "  This is separate from the ipykernel package so we can avoid doing imports until\n"
     ]
    }
   ],
   "source": [
    "i = 0\n",
    "for row in df['Rating']:\n",
    "    df['Rating'][i] = float(df['Rating'][i][:-12])\n",
    "    i+=1"
   ]
  },
  {
   "cell_type": "code",
   "execution_count": 151,
   "metadata": {},
   "outputs": [
    {
     "data": {
      "image/png": "[encoded data removed]",
      "text/plain": [
       "<Figure size 432x288 with 1 Axes>"
      ]
     },
     "metadata": {
      "needs_background": "light"
     },
     "output_type": "display_data"
    }
   ],
   "source": [
    "# This diagram shows the average score of each store.\n",
    "ratings = pd.to_numeric(df['Rating']).groupby(df['District'])\n",
    "ax = ratings.mean().plot(kind = 'bar',title= 'Average Rating for Each District',ylim=(3.0,5.0),)\n",
    "plt.ylabel('rateing')\n",
    "for p in ax.patches:\n",
    "    ax.annotate(\"%.2f\" % p.get_height(), (p.get_x() * 1.005, p.get_height() * 1.005))"
   ]
  },
  {
   "cell_type": "code",
   "execution_count": null,
   "metadata": {},
   "outputs": [],
   "source": []
  }
 ],
 "metadata": {
  "kernelspec": {
   "display_name": "Python 3",
   "language": "python",
   "name": "python3"
  },
  "language_info": {
   "codemirror_mode": {
    "name": "ipython",
    "version": 3
   },
   "file_extension": ".py",
   "mimetype": "text/x-python",
   "name": "python",
   "nbconvert_exporter": "python",
   "pygments_lexer": "ipython3",
   "version": "3.7.3"
  }
 },
 "nbformat": 4,
 "nbformat_minor": 2
}
